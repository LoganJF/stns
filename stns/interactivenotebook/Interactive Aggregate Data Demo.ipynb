{
 "cells": [
  {
   "cell_type": "markdown",
   "metadata": {},
   "source": [
    "# Purpose of this notebook:\n",
    "The purpose of this notebook is to plot aggregate data collected thus far\n",
    "\n",
    "Notes:\n",
    "\n",
    "Experiment Done on 11-5-19 was done using Saline for the first 3 then CCAP (10^-7M) and then another saline\n",
    "\n",
    "Use ctrl + click to select multiple options for dates and conditions\n",
    "\n",
    "Some dates involved multiple concentrations of CCAP, in which case the CCAP will have two different line plots with the same color for that date (See individiual notebooks for more details)"
   ]
  },
  {
   "cell_type": "markdown",
   "metadata": {},
   "source": [
    "# Load Required Packages"
   ]
  },
  {
   "cell_type": "code",
   "execution_count": 1,
   "metadata": {},
   "outputs": [],
   "source": [
    "%matplotlib inline\n",
    "import seaborn as sns; sns.set()\n",
    "import pandas as pd\n",
    "import numpy as np\n",
    "import matplotlib as mpl\n",
    "from matplotlib.lines import Line2D\n",
    "from matplotlib import pyplot as plt\n",
    "from collections import OrderedDict\n",
    "from IPython.display import display\n",
    "# Widget stuff\n",
    "import ipywidgets as widgets\n",
    "from ipywidgets import interact, interact_manual, fixed, interactive"
   ]
  },
  {
   "cell_type": "markdown",
   "metadata": {},
   "source": [
    "# Load Data"
   ]
  },
  {
   "cell_type": "code",
   "execution_count": 2,
   "metadata": {},
   "outputs": [],
   "source": [
    "p = 'nusbaum_lab_data.csv'\n",
    "df = pd.read_csv(p, index_col=0)\n",
    "\n",
    "# Change it so that All pres and all posts aggregate as one condition\n",
    "df.loc[df.Condition.isin(['Pre', 'Pre 0', 'Pre 1', 'Pre 2']), 'Condition'] = 'Pre'\n",
    "df.loc[df.Condition.isin(['Post', 'Post 1', 'Post 2']), 'Condition'] = 'Post'\n",
    "dataframe = df\n",
    "\n",
    "# Make things used later in plots\n",
    "dates=list(dataframe['Date'].unique())\n",
    "Conditions = list(dataframe['Condition'].unique())\n",
    "markers = Line2D.filled_markers[:10]\n",
    "cmap=sns.color_palette('bright',10)\n",
    "marker_d = dict(zip(sorted(df['Date'].unique()),markers))\n",
    "color_d = dict(zip(sorted(df['Date'].unique()), cmap))"
   ]
  },
  {
   "cell_type": "code",
   "execution_count": 3,
   "metadata": {},
   "outputs": [
    {
     "data": {
      "application/vnd.jupyter.widget-view+json": {
       "model_id": "a6f210a53624404c9f769db3bfdf0cc9",
       "version_major": 2,
       "version_minor": 0
      },
      "text/plain": [
       "interactive(children=(Dropdown(description='y_val', options=('Burst Duration (sec)', '# of Spikes', 'Spike Fre…"
      ]
     },
     "metadata": {},
     "output_type": "display_data"
    }
   ],
   "source": [
    "@widgets.interact(\n",
    "    y_val=['Burst Duration (sec)', '# of Spikes',\n",
    "           'Spike Frequency (Hz)', 'Instantaneous Period (sec)',\n",
    "           'Instantaneous Frequency (Hz)','Duty Cycle'], \n",
    "    burst_num=(1, 300),\n",
    "    neuron = ['LG', 'DG', 'GM'], \n",
    "    Condition = widgets.SelectMultiple(\n",
    "        options=['Pre', 'CCAP', 'Unfed Hemo + CCAP', 'Post'],\n",
    "        value=tuple(['Pre', 'CCAP', 'Unfed Hemo + CCAP', 'Post']),\n",
    "        rows = 4,\n",
    "        description='Condition',\n",
    "        disabled=False),\n",
    "    dates=widgets.SelectMultiple(\n",
    "        options=df['Date'].unique(),\n",
    "        value=tuple(df['Date'].unique()),\n",
    "        rows=len(df['Date'].unique()),\n",
    "        description='Dates',\n",
    "        disabled=False\n",
    "        ))\n",
    "\n",
    "\n",
    "def plot(y_val='Burst Duration (sec)', burst_num=100, plot_lines=True, \n",
    "         title='Plot title', neuron='LG',dates=dates, Condition=('Pre'),\n",
    "        ):\n",
    "    global dataframe\n",
    "    global marker_d\n",
    "    global color_d\n",
    "    _dataframe = dataframe[(dataframe['Burst#'] < burst_num)\n",
    "                           &(dataframe['Neuron']==neuron)\n",
    "                           #&(dataframe['Condition']==condition)\n",
    "                           &(dataframe.Condition.isin(Condition))\n",
    "                           &(dataframe.Date.isin(dates))]\n",
    "    fig, ax = plt.subplots(nrows=1, ncols=1, figsize=(12,5))\n",
    "    for i,date in enumerate(_dataframe['Date'].unique()):\n",
    "        data = _dataframe[_dataframe['Date']==date]\n",
    "        plot = ax.scatter(x=data['Burst#'], \n",
    "                          y=data[y_val], \n",
    "                          label='{} LG {}'.format(date, neuron),\n",
    "                          alpha=.5,\n",
    "                          marker=marker_d[date],\n",
    "                          color=color_d[date]\n",
    "                         )\n",
    "        if plot_lines:\n",
    "            if data[data['Burst#']==1].shape[0] == 1:\n",
    "                plot_ = ax.plot(data['Burst#'], \n",
    "                                data[y_val], color=color_d[date], ls='--',zorder=3, label='')\n",
    "            elif data[data['Burst#']==1].shape[0] > 1:\n",
    "                # Fix the issue here\n",
    "                # This hassle and weird code is to prevent line connections between seperate\n",
    "                # Experiments\n",
    "                #x_data = find_consecutive_data(data['Burst#'])\n",
    "                x_data = np.split(data['Burst#'],\n",
    "                                  np.where(np.diff(data['Burst#']) != 1)[0] + 1)\n",
    "                y_data = np.split(data[y_val], \n",
    "                                  np.where(np.diff(data['Burst#']) != 1)[0] + 1)\n",
    "                for x,y in zip(x_data, y_data):\n",
    "                    plot_ = ax.plot(x, y, color=color_d[date], ls='--',zorder=3, label='')\n",
    "                \n",
    "                \n",
    "\n",
    "    y_label = ax.set_ylabel(y_val,fontsize=16)\n",
    "    x_label = ax.set_xlabel('Burst #',fontsize=16)\n",
    "    ax.set_title(title,fontsize=20)\n",
    "    plt.legend(bbox_to_anchor=(1,1))\n",
    "    plt.tight_layout()"
   ]
  },
  {
   "cell_type": "code",
   "execution_count": 31,
   "metadata": {},
   "outputs": [],
   "source": [
    "def find_consecutive_data(data, step=1):\n",
    "    \"\"\"Splits Data into a list of arrays where there is more than a single step of 1\n",
    "\n",
    "    Parameters\n",
    "    ----------\n",
    "    data: np.array (of zeroes and ones, True or False, etc.)\n",
    "          the data to split\n",
    "    step: int, by default 1\n",
    "\n",
    "    Returns\n",
    "    -------\n",
    "    list of split data\n",
    "    \"\"\"\n",
    "    return np.split(data, np.where(np.diff(data) != step)[0] + 1)\n",
    "\n",
    "def find_close_data(data, allowable_step=1):\n",
    "    \"\"\"Splits Data into a list of arrays where there a adjacent increase greater than allowable_step\n",
    "\n",
    "    Parameters\n",
    "    ----------\n",
    "    data: np.array, the data to split\n",
    "    step: int, by default 1\n",
    "\n",
    "    Returns\n",
    "    -------\n",
    "    list of split data\n",
    "    \"\"\"\n",
    "    return np.split(data, np.where(np.diff(data) > allowable_step)[0] + 1)"
   ]
  }
 ],
 "metadata": {
  "kernelspec": {
   "display_name": "crabby",
   "language": "python",
   "name": "crabby"
  },
  "language_info": {
   "codemirror_mode": {
    "name": "ipython",
    "version": 3
   },
   "file_extension": ".py",
   "mimetype": "text/x-python",
   "name": "python",
   "nbconvert_exporter": "python",
   "pygments_lexer": "ipython3",
   "version": "3.7.2"
  }
 },
 "nbformat": 4,
 "nbformat_minor": 2
}
